{
 "cells": [
  {
   "cell_type": "code",
   "execution_count": 1,
   "metadata": {},
   "outputs": [
    {
     "name": "stdout",
     "output_type": "stream",
     "text": [
      "[0 1 2 3 4 5]\n"
     ]
    }
   ],
   "source": [
    "import  numpy as np \n",
    "##1 creating array in numpy\n",
    "\n",
    "x = [ 0 , 1 , 2 , 3 , 4 , 5]\n",
    "x = np.array([ 0 , 1 , 2 , 3 , 4 , 5])\n",
    "print(x)"
   ]
  },
  {
   "cell_type": "code",
   "execution_count": 7,
   "metadata": {},
   "outputs": [
    {
     "name": "stdout",
     "output_type": "stream",
     "text": [
      "100\n"
     ]
    }
   ],
   "source": [
    "#2   0 dimensional arrray\n",
    "\n",
    "z = [100]\n",
    "z = np.array(100)\n",
    "print(z)"
   ]
  },
  {
   "cell_type": "code",
   "execution_count": 9,
   "metadata": {},
   "outputs": [
    {
     "name": "stdout",
     "output_type": "stream",
     "text": [
      "[[0 2 4 6]\n",
      " [0 3 7 9]]\n",
      "<class 'numpy.ndarray'>\n"
     ]
    }
   ],
   "source": [
    "#3 dimensional arrray\n",
    "\n",
    "c = [[0,2,4,6] , [0,3,7,9]]\n",
    "c = np.array([[0,2,4,6] , [0,3,7,9]])\n",
    "print(c)\n",
    "print(type(c))"
   ]
  },
  {
   "cell_type": "code",
   "execution_count": 10,
   "metadata": {},
   "outputs": [
    {
     "name": "stdout",
     "output_type": "stream",
     "text": [
      "[[[0 2 4 6]\n",
      "  [0 3 7 9]]\n",
      "\n",
      " [[8 1 5 4]\n",
      "  [0 8 4 6]]]\n"
     ]
    }
   ],
   "source": [
    "#4   3 dimensional arrray\n",
    "\n",
    "\n",
    "import  numpy as np \n",
    "\n",
    "d = np.array([[[0,2,4,6] , [0,3,7,9]], [[8,1,5,4], [0,8,4,6,]]])\n",
    "print(d)\n"
   ]
  },
  {
   "cell_type": "code",
   "execution_count": 12,
   "metadata": {},
   "outputs": [
    {
     "name": "stdout",
     "output_type": "stream",
     "text": [
      "0\n",
      "1\n",
      "2\n",
      "3\n"
     ]
    }
   ],
   "source": [
    "#5 dimensional count\n",
    "\n",
    "x =np.array(101)\n",
    "a=np.array([101,102])\n",
    "b =np.array([[1,2,3],[0,7,5]])\n",
    "c = np.array([[[1,2,3],[0,7,5],[9,5,3]]])\n",
    "\n",
    "print(x.ndim)\n",
    "print(a.ndim)\n",
    "print(b.ndim)\n",
    "print(c.ndim)\n"
   ]
  },
  {
   "cell_type": "code",
   "execution_count": 31,
   "metadata": {},
   "outputs": [
    {
     "name": "stdout",
     "output_type": "stream",
     "text": [
      "[[[[[[[[[[[  10  122  113    4   88 1000 7887]]]]]]]]]]]\n",
      "dimensions nums : 11\n"
     ]
    }
   ],
   "source": [
    "# 6 -  Higher Dimensional Arrays\n",
    "\n",
    "\n",
    "import numpy as np\n",
    "d =[10, 122, 113, 4,88,1000,7887]\n",
    "d = np.array([10, 122, 113, 4,88,1000,7887], ndmin=11)\n",
    "\n",
    "print(d)\n",
    "print('dimensions nums :', d.ndim)"
   ]
  },
  {
   "cell_type": "code",
   "execution_count": 33,
   "metadata": {},
   "outputs": [
    {
     "name": "stdout",
     "output_type": "stream",
     "text": [
      "[0 4 8 9 7 3]\n",
      "9\n"
     ]
    }
   ],
   "source": [
    "# 7 - Array indexing is the same as accessing an array element.\n",
    "\n",
    "import numpy as np\n",
    "v=[0,4,8,9,7,3]\n",
    "v = np.array([0,4,8,9,7,3])\n",
    "print(v)\n",
    "print(v[3])\n"
   ]
  },
  {
   "cell_type": "code",
   "execution_count": 8,
   "metadata": {},
   "outputs": [
    {
     "name": "stdout",
     "output_type": "stream",
     "text": [
      "[0 4 8 9 7 3]\n",
      "27\n"
     ]
    }
   ],
   "source": [
    "#8 Get diff elements  from the following array and multiply them.\n",
    "\n",
    "import numpy as np\n",
    "v=[0,4,8,9,7,3]\n",
    "v = np.array([0,4,8,9,7,3])\n",
    "print(v)\n",
    "print(v[3] * v[5])\n",
    "\n"
   ]
  },
  {
   "cell_type": "code",
   "execution_count": 9,
   "metadata": {},
   "outputs": [
    {
     "name": "stdout",
     "output_type": "stream",
     "text": [
      "5th element on 2nd dim:  7\n"
     ]
    }
   ],
   "source": [
    "# 9 Access 2-D Arrays\n",
    "\n",
    "\n",
    "import numpy as np\n",
    "v = np.array([[0,4,8,9,7,3], [10, 122, 113, 4,88,1000 ]])\n",
    "print('4th element on ist dim: ', v[0, 4])\n",
    "\n",
    "\n"
   ]
  },
  {
   "cell_type": "code",
   "execution_count": 11,
   "metadata": {},
   "outputs": [
    {
     "name": "stdout",
     "output_type": "stream",
     "text": [
      "4th element on 2nd dim:  88\n"
     ]
    }
   ],
   "source": [
    "# 10 Access 2-D Arrays\n",
    "\n",
    "\n",
    "import numpy as np\n",
    "v = np.array([[0,4,8,9,7,3], [10, 122, 113, 4,88,1000 ]])\n",
    "print('4th element on 2nd dim: ', v[1, 4])\n"
   ]
  },
  {
   "cell_type": "code",
   "execution_count": 5,
   "metadata": {},
   "outputs": [
    {
     "name": "stdout",
     "output_type": "stream",
     "text": [
      "1111\n"
     ]
    }
   ],
   "source": [
    "# 11 Access 3-D Arrays\n",
    "\n",
    "\n",
    "import numpy as np\n",
    "v = np.array([[[0,4,8,9,7,3], [10, 122, 113, 4,88,1000 ]],[[9,5,3,100,104,117],[77,12,55,1111,113,18]]])\n",
    "print(v[1, 1 ,3])\n",
    "\n",
    "\n",
    "#The first number represents the first dimension, which contains two array\n",
    "#Since we selected 1, we are left with the 2nd dimension\n",
    "#[[9,5,3,100,104,117],[77,12,55,1111,113,18]]])\n",
    "#The third number represents the third value of arrray, \n"
   ]
  },
  {
   "cell_type": "code",
   "execution_count": 9,
   "metadata": {},
   "outputs": [
    {
     "name": "stdout",
     "output_type": "stream",
     "text": [
      "Last element from ist dim:  511\n"
     ]
    }
   ],
   "source": [
    "#12 Negative Indexing\n",
    "\n",
    "\n",
    "import numpy as np\n",
    "\n",
    "r = np.array([[1,2,3,24,511], [16,722,812,119,11]])\n",
    "\n",
    "print('Last element from ist dim: ', r[0, -1])"
   ]
  },
  {
   "cell_type": "code",
   "execution_count": 18,
   "metadata": {},
   "outputs": [
    {
     "name": "stdout",
     "output_type": "stream",
     "text": [
      "[14401 33002 11043 41024 54074 14878]\n"
     ]
    }
   ],
   "source": [
    " # 13 Slicing\n",
    "    \n",
    "import numpy as np\n",
    "\n",
    "c = np.array([14401, 33002, 11043, 41024, 54074, 14878, 20787])\n",
    "\n",
    "print(c[0:6])\n"
   ]
  },
  {
   "cell_type": "code",
   "execution_count": 19,
   "metadata": {},
   "outputs": [
    {
     "name": "stdout",
     "output_type": "stream",
     "text": [
      "[41024 54074 14878 20787]\n"
     ]
    }
   ],
   "source": [
    "#14 Slice elements from index 4 to the end of the array:\n",
    "\n",
    "import numpy as np\n",
    "\n",
    "c = np.array([14401, 33002, 11043, 41024, 54074, 14878, 20787])\n",
    "\n",
    "print(c[3:])"
   ]
  },
  {
   "cell_type": "code",
   "execution_count": 21,
   "metadata": {},
   "outputs": [
    {
     "name": "stdout",
     "output_type": "stream",
     "text": [
      "[14401 33002 11043 41024 54074]\n"
     ]
    }
   ],
   "source": [
    "#15 Slice elements from the beginning to index 4 (not included):\n",
    "\n",
    "import numpy as np\n",
    "\n",
    "c = np.array([14401, 33002, 11043, 41024, 54074, 14878, 20787])\n",
    "\n",
    "print(c[:5])"
   ]
  },
  {
   "cell_type": "code",
   "execution_count": 22,
   "metadata": {},
   "outputs": [
    {
     "name": "stdout",
     "output_type": "stream",
     "text": [
      "[41024 54074 14878]\n"
     ]
    }
   ],
   "source": [
    "#16 Negative Slicing\n",
    "\n",
    "import numpy as np\n",
    "\n",
    "c = np.array([14401, 33002, 11043, 41024, 54074, 14878, 20787])\n",
    "\n",
    "print(c[-4:-1])\n"
   ]
  },
  {
   "cell_type": "code",
   "execution_count": 24,
   "metadata": {},
   "outputs": [
    {
     "name": "stdout",
     "output_type": "stream",
     "text": [
      "[20 30 40]\n"
     ]
    }
   ],
   "source": [
    "# 17 STEP Use the step value to determine the step of the slicing\n",
    "import numpy as np\n",
    "x = np.array([5,10,15,20,25,30,35,40,45,50])\n",
    "print(x[3:9:2])\n"
   ]
  },
  {
   "cell_type": "code",
   "execution_count": 25,
   "metadata": {},
   "outputs": [
    {
     "name": "stdout",
     "output_type": "stream",
     "text": [
      "[ 5 15 25 35 45]\n"
     ]
    }
   ],
   "source": [
    "#18 Return every other element from the entire array\n",
    "\n",
    " \n",
    "import numpy as np\n",
    "x = np.array([5,10,15,20,25,30,35,40,45,50])\n",
    "print(x[::2])"
   ]
  },
  {
   "cell_type": "code",
   "execution_count": 27,
   "metadata": {},
   "outputs": [
    {
     "name": "stdout",
     "output_type": "stream",
     "text": [
      "[10 15 20]\n"
     ]
    }
   ],
   "source": [
    "#19 Slicing 2-D Arrays\n",
    "import numpy as np\n",
    "x = np.array([[5,10,15,20,25],[30,35,40,45,50]])\n",
    "print(x[0,1:4:1])"
   ]
  },
  {
   "cell_type": "code",
   "execution_count": 29,
   "metadata": {},
   "outputs": [
    {
     "name": "stdout",
     "output_type": "stream",
     "text": [
      "[25 50]\n"
     ]
    }
   ],
   "source": [
    "#20 From both arrays, return index 4\n",
    "\n",
    "import numpy as np\n",
    "x = np.array([[5,10,15,20,25],[30,35,40,45,50]])\n",
    "print(x[0:2,4])"
   ]
  },
  {
   "cell_type": "code",
   "execution_count": 31,
   "metadata": {},
   "outputs": [
    {
     "name": "stdout",
     "output_type": "stream",
     "text": [
      "[[10 15 20 25]\n",
      " [35 40 45 50]]\n"
     ]
    }
   ],
   "source": [
    "#21 From both arrays, slicing\n",
    "\n",
    "import numpy as np\n",
    "x = np.array([[5,10,15,20,25],[30,35,40,45,50]])\n",
    "print(x[0:4, 1:5])"
   ]
  },
  {
   "cell_type": "code",
   "execution_count": 32,
   "metadata": {},
   "outputs": [
    {
     "name": "stdout",
     "output_type": "stream",
     "text": [
      "int32\n"
     ]
    }
   ],
   "source": [
    "#22 Check the Data Type of an Array\n",
    "\n",
    "import numpy as np\n",
    "x = np.array([[5,10,15,20,25],[30,35,40,45,50]])\n",
    "print(x.dtype)"
   ]
  },
  {
   "cell_type": "code",
   "execution_count": 54,
   "metadata": {},
   "outputs": [
    {
     "name": "stdout",
     "output_type": "stream",
     "text": [
      "['1' '8' '0' '6']\n",
      "<U1\n"
     ]
    }
   ],
   "source": [
    "#23Creating Arrays With a Defined Data Type\n",
    "\n",
    "import numpy as np\n",
    "\n",
    "e = np.array([1,8,0,6], dtype='U')\n",
    "\n",
    "print(e)\n",
    "print(e.dtype)"
   ]
  },
  {
   "cell_type": "code",
   "execution_count": 44,
   "metadata": {},
   "outputs": [
    {
     "name": "stdout",
     "output_type": "stream",
     "text": [
      "[ 3 10  4  6]\n",
      "int32\n"
     ]
    }
   ],
   "source": [
    "#24 Converting Data Type on Existing Arrays astype()\n",
    "#float to integ\n",
    "\n",
    "import numpy as np\n",
    "\n",
    "e = np.array([3.2,10.8,4.9,6.1])\n",
    "ss =e.astype(int)\n",
    "print(ss)\n",
    "print(ss.dtype)\n"
   ]
  },
  {
   "cell_type": "code",
   "execution_count": 53,
   "metadata": {},
   "outputs": [
    {
     "name": "stdout",
     "output_type": "stream",
     "text": [
      "[False  True False]\n",
      "bool\n"
     ]
    }
   ],
   "source": [
    "#25 Change data type from integer to boolean:\n",
    "\n",
    "\n",
    "import numpy as np\n",
    "\n",
    "f = np.array([0,3, 0])\n",
    "\n",
    "cv = f.astype(bool)\n",
    "\n",
    "print(cv)\n",
    "print(cv.dtype)"
   ]
  },
  {
   "cell_type": "code",
   "execution_count": 55,
   "metadata": {},
   "outputs": [
    {
     "name": "stdout",
     "output_type": "stream",
     "text": [
      "(2, 5)\n"
     ]
    }
   ],
   "source": [
    "#26 shape\n",
    "import numpy as np\n",
    "x = np.array([[5,10,15,20,25],[30,35,40,45,50]])\n",
    "print(x.shape)\n"
   ]
  },
  {
   "cell_type": "code",
   "execution_count": 7,
   "metadata": {},
   "outputs": [
    {
     "name": "stdout",
     "output_type": "stream",
     "text": [
      "[ 5 10 15 20 25 30 35 40 45 50]\n"
     ]
    }
   ],
   "source": [
    "#### 27 Reshaping arrays\n",
    "import numpy as np\n",
    "x = np.array([[5,10,15,20,25],[30,35,40,45,50]])\n",
    "\n",
    "arr = x.reshape(-1)\n",
    "\n",
    "print(arr)"
   ]
  },
  {
   "cell_type": "code",
   "execution_count": 21,
   "metadata": {},
   "outputs": [
    {
     "name": "stdout",
     "output_type": "stream",
     "text": [
      "[[ 5 10]\n",
      " [15 20]\n",
      " [25 30]\n",
      " [35 40]]\n"
     ]
    }
   ],
   "source": [
    "#### 28 Reshaping arrays\n",
    "import numpy as np\n",
    "cvf = np.array([5,10 ,15, 20 ,25 ,30,35 ,40])\n",
    "\n",
    "carr = cvf.reshape(4,2)\n",
    "\n",
    "print(carr)"
   ]
  },
  {
   "cell_type": "code",
   "execution_count": 15,
   "metadata": {},
   "outputs": [
    {
     "name": "stdout",
     "output_type": "stream",
     "text": [
      "[[[ 1  2]\n",
      "  [ 3  4]\n",
      "  [ 5  6]]\n",
      "\n",
      " [[ 7  8]\n",
      "  [ 9 10]\n",
      "  [11 12]]]\n"
     ]
    }
   ],
   "source": [
    "#29\n",
    "import numpy as np\n",
    "\n",
    "arr = np.array([1, 2, 3, 4, 5, 6, 7, 8, 9, 10, 11, 12])\n",
    "\n",
    "newarr = arr.reshape(2, 3, 2)\n",
    "\n",
    "print(newarr)\n"
   ]
  },
  {
   "cell_type": "code",
   "execution_count": 22,
   "metadata": {},
   "outputs": [
    {
     "name": "stdout",
     "output_type": "stream",
     "text": [
      "[[ 5 10]\n",
      " [15 20]\n",
      " [25 30]\n",
      " [35 40]\n",
      " [56 88]]\n"
     ]
    }
   ],
   "source": [
    "#### 30 Reshaping arrays\n",
    "import numpy as np\n",
    "cvf = np.array([5,10 ,15, 20 ,25 ,30,35 ,40,56,88])\n",
    "\n",
    "carr = cvf.reshape(5,2)\n",
    "\n",
    "print(carr)"
   ]
  },
  {
   "cell_type": "code",
   "execution_count": 24,
   "metadata": {},
   "outputs": [
    {
     "name": "stdout",
     "output_type": "stream",
     "text": [
      "[101 102 110 221 201  99]\n"
     ]
    }
   ],
   "source": [
    "#31 Joining NumPy Arrays concatenate()\n",
    "import numpy as np\n",
    "\n",
    "x1 = np.array([101,102,110])\n",
    "\n",
    "x2 = np.array([221, 201, 99])\n",
    "result = np.concatenate((x1, x2))\n",
    "\n",
    "print(result)\n",
    "\n"
   ]
  },
  {
   "cell_type": "code",
   "execution_count": 31,
   "metadata": {},
   "outputs": [
    {
     "name": "stdout",
     "output_type": "stream",
     "text": [
      "[[101 102 221 201]\n",
      " [110 444  99 666]]\n"
     ]
    }
   ],
   "source": [
    "#32 Join two 2-D arrays along rows (axis=1)\n",
    "\n",
    "import numpy as np\n",
    "\n",
    "x1 = np.array([[101,102],[110,444]])\n",
    "\n",
    "x2 = np.array([[221, 201], [99,666]])\n",
    "result = np.concatenate((x1, x2), axis=1)\n",
    "\n",
    "print(result)\n"
   ]
  },
  {
   "cell_type": "code",
   "execution_count": 35,
   "metadata": {},
   "outputs": [
    {
     "name": "stdout",
     "output_type": "stream",
     "text": [
      "[[[101 102]\n",
      "  [221 201]]\n",
      "\n",
      " [[110 444]\n",
      "  [ 99 666]]]\n"
     ]
    }
   ],
   "source": [
    "#33 Using Stack Functions\n",
    "\n",
    "import numpy as np\n",
    "\n",
    "x1 = np.array([[101,102],[110,444]])\n",
    "\n",
    "x2 = np.array([[221, 201], [99,666]])\n",
    "result = np.stack((x1, x2),axis=1)\n",
    "\n",
    "print(result)\n"
   ]
  },
  {
   "cell_type": "code",
   "execution_count": 36,
   "metadata": {},
   "outputs": [
    {
     "name": "stdout",
     "output_type": "stream",
     "text": [
      "[[101 102 221 201]\n",
      " [110 444  99 666]]\n"
     ]
    }
   ],
   "source": [
    "#34 Using hStack Functions to stack along rows.\n",
    "\n",
    "import numpy as np\n",
    "\n",
    "x1 = np.array([[101,102],[110,444]])\n",
    "\n",
    "x2 = np.array([[221, 201], [99,666]])\n",
    "result = np.hstack((x1, x2))\n",
    "\n",
    "print(result)"
   ]
  },
  {
   "cell_type": "code",
   "execution_count": 37,
   "metadata": {},
   "outputs": [
    {
     "name": "stdout",
     "output_type": "stream",
     "text": [
      "[[101 102]\n",
      " [110 444]\n",
      " [221 201]\n",
      " [ 99 666]]\n"
     ]
    }
   ],
   "source": [
    "#35vstack()  to stack along columns.\n",
    "import numpy as np\n",
    "\n",
    "x1 = np.array([[101,102],[110,444]])\n",
    "\n",
    "x2 = np.array([[221, 201], [99,666]])\n",
    "result = np.vstack((x1, x2))\n",
    "\n",
    "print(result)\n"
   ]
  },
  {
   "cell_type": "code",
   "execution_count": 39,
   "metadata": {},
   "outputs": [
    {
     "name": "stdout",
     "output_type": "stream",
     "text": [
      "[[[ 101  221]\n",
      "  [ 102  201]\n",
      "  [  11 2123]]\n",
      "\n",
      " [[ 110   99]\n",
      "  [ 444  666]\n",
      "  [  44   87]]]\n"
     ]
    }
   ],
   "source": [
    "#36 dstack() to stack along height\n",
    "import numpy as np\n",
    "\n",
    "x1 = np.array([[101,102,11],[110,444,44]])\n",
    "\n",
    "x2 = np.array([[221, 201,2123], [99,666,87]])\n",
    "result = np.dstack((x1, x2))\n",
    "\n",
    "print(result)"
   ]
  },
  {
   "cell_type": "code",
   "execution_count": 42,
   "metadata": {},
   "outputs": [
    {
     "name": "stdout",
     "output_type": "stream",
     "text": [
      "[array([ 5, 10]), array([15, 20]), array([25, 30]), array([35]), array([40])]\n"
     ]
    }
   ],
   "source": [
    "#### 37 array_split()Splitting breaks one array into multiple.\n",
    "import numpy as np\n",
    "cvf = np.array([5,10 ,15, 20 ,25 ,30,35 ,40])\n",
    "\n",
    "carr = np.array_split(cvf,5)\n",
    "\n",
    "print(carr)"
   ]
  },
  {
   "cell_type": "code",
   "execution_count": 1,
   "metadata": {},
   "outputs": [
    {
     "name": "stdout",
     "output_type": "stream",
     "text": [
      "[array([ 5, 10]), array([15, 20]), array([25]), array([30]), array([35]), array([40])]\n"
     ]
    }
   ],
   "source": [
    "#38 Split the array in 6 parts:\n",
    "import numpy as np\n",
    "cvf = np.array([5,10 ,15, 20 ,25 ,30,35 ,40])\n",
    "\n",
    "carr = np.array_split(cvf,6)\n",
    "\n",
    "print(carr)\n"
   ]
  },
  {
   "cell_type": "code",
   "execution_count": 9,
   "metadata": {},
   "outputs": [
    {
     "name": "stdout",
     "output_type": "stream",
     "text": [
      "[ 5 10]\n",
      "[15 20]\n",
      "[25 30]\n",
      "[35]\n",
      "[40]\n"
     ]
    }
   ],
   "source": [
    "#39 Access the splitted arrays:\n",
    "\n",
    "\n",
    "import numpy as np\n",
    "cvf = np.array([5,10 ,15, 20 ,25 ,30,35 ,40])\n",
    "\n",
    "carr = np.array_split(cvf,5)\n",
    "\n",
    "print(carr[0])\n",
    "print(carr[1])\n",
    "print(carr[2])\n",
    "print(carr[3])\n",
    "print(carr[4])\n"
   ]
  },
  {
   "cell_type": "code",
   "execution_count": 15,
   "metadata": {},
   "outputs": [
    {
     "name": "stdout",
     "output_type": "stream",
     "text": [
      "[array([[ 0,  1],\n",
      "       [11,  2]]), array([[ 10,   3],\n",
      "       [110,   4]]), array([[4214,    5],\n",
      "       [  40,    6]])]\n"
     ]
    }
   ],
   "source": [
    "#40 ssplit the 2-D array into three 2-D arrays.\n",
    "\n",
    "import numpy as np\n",
    "\n",
    "x1 = np.array([[0, 1], [11, 2], [10, 3], [110, 4], [4214, 5], [40, 6]])\n",
    "\n",
    "result = np.array_split(x1, 3)\n",
    "\n",
    "print(result)\n"
   ]
  },
  {
   "cell_type": "code",
   "execution_count": 17,
   "metadata": {},
   "outputs": [
    {
     "name": "stdout",
     "output_type": "stream",
     "text": [
      "[array([[ 1],\n",
      "       [ 4],\n",
      "       [ 7],\n",
      "       [10],\n",
      "       [13],\n",
      "       [16]]), array([[ 2],\n",
      "       [ 5],\n",
      "       [ 8],\n",
      "       [11],\n",
      "       [14],\n",
      "       [17]]), array([[ 3],\n",
      "       [ 6],\n",
      "       [ 9],\n",
      "       [12],\n",
      "       [15],\n",
      "       [18]])]\n"
     ]
    }
   ],
   "source": [
    "#41 Split the 2-D array into three 2-D arrays along rows\n",
    "\n",
    "\n",
    "import numpy as np\n",
    "\n",
    "x1 = np.array([[1, 2, 3], [4, 5, 6], [7, 8, 9], [10, 11, 12], [13, 14, 15], [16, 17, 18]])\n",
    "result = np.array_split(x1, 3, axis=1)\n",
    "\n",
    "print(result)"
   ]
  },
  {
   "cell_type": "code",
   "execution_count": 20,
   "metadata": {},
   "outputs": [
    {
     "name": "stdout",
     "output_type": "stream",
     "text": [
      "[array([[ 1],\n",
      "       [ 4],\n",
      "       [ 7],\n",
      "       [10],\n",
      "       [13],\n",
      "       [16]]), array([[ 2],\n",
      "       [ 5],\n",
      "       [ 8],\n",
      "       [11],\n",
      "       [14],\n",
      "       [17]]), array([[ 3],\n",
      "       [ 6],\n",
      "       [ 9],\n",
      "       [12],\n",
      "       [15],\n",
      "       [18]])]\n"
     ]
    }
   ],
   "source": [
    "#42 An alternate solution is using hsplit() opposite of hstack()\n",
    "\n",
    "\n",
    "import numpy as np\n",
    "\n",
    "x1 = np.array([[1, 2, 3], [4, 5, 6], [7, 8, 9], [10, 11, 12], [13, 14, 15], [16, 17, 18]])\n",
    "result = np.hsplit(x1, 3)\n",
    "\n",
    "print(result)"
   ]
  },
  {
   "cell_type": "code",
   "execution_count": 22,
   "metadata": {},
   "outputs": [
    {
     "name": "stdout",
     "output_type": "stream",
     "text": [
      "[      0       7      30      55      66    1000    6666 5000000]\n"
     ]
    }
   ],
   "source": [
    "#43  Sort the array\n",
    "\n",
    "import numpy as np\n",
    "\n",
    "x1 = np.array([1000,6666,66,7,0,55,30,5000000])\n",
    "print(np.sort(x1))\n"
   ]
  },
  {
   "cell_type": "code",
   "execution_count": 24,
   "metadata": {},
   "outputs": [
    {
     "name": "stdout",
     "output_type": "stream",
     "text": [
      "['a' 'b' 'c' 'd' 's' 't' 'z']\n"
     ]
    }
   ],
   "source": [
    "\n",
    "#44 Sort the array alphabetically\n",
    "import numpy as np\n",
    "\n",
    "x1 = np.array(['d','z','c','t','a','s','b'])\n",
    "print(np.sort(x1))"
   ]
  },
  {
   "cell_type": "code",
   "execution_count": 28,
   "metadata": {},
   "outputs": [
    {
     "name": "stdout",
     "output_type": "stream",
     "text": [
      "[[   22    61    73]\n",
      " [   52    60   400]\n",
      " [   19    48   887]\n",
      " [  121   140   211]\n",
      " [ 1003  1444  1578]\n",
      " [  106   108 10007]]\n"
     ]
    }
   ],
   "source": [
    "#45 Sorting a 2-D Array\n",
    "\n",
    "import numpy as np\n",
    "\n",
    "x1 = np.array([[61, 22, 73], [400, 52, 60], [887, 48, 19], [140, 211, 121], [1003, 1444, 1578], [106, 10007, 108]])\n",
    "print(np.sort(x1))\n",
    "\n"
   ]
  },
  {
   "cell_type": "code",
   "execution_count": 27,
   "metadata": {},
   "outputs": [
    {
     "name": "stdout",
     "output_type": "stream",
     "text": [
      "(array([5], dtype=int64), array([1], dtype=int64))\n"
     ]
    }
   ],
   "source": [
    "#46 Searching Arrays indexes where the value is \n",
    "\n",
    "import numpy as np\n",
    "\n",
    "x1 = np.array([[61, 22, 73], [400, 52, 60], [887, 48, 19], [140, 211, 121], [1003, 1444, 1578], [106, 10007, 108]])\n",
    "x = np.where(x1 ==10007)\n",
    "\n",
    "print(x)"
   ]
  },
  {
   "cell_type": "code",
   "execution_count": 32,
   "metadata": {},
   "outputs": [
    {
     "name": "stdout",
     "output_type": "stream",
     "text": [
      "(array([0, 1, 3, 5], dtype=int64),)\n"
     ]
    }
   ],
   "source": [
    "#47 indexes where the values are even\n",
    "import numpy as np\n",
    "\n",
    "x1 = np.array([4,8,17,2,23,114,127])\n",
    "x = np.where(x1%2 == 0)\n",
    "\n",
    "print(x)"
   ]
  },
  {
   "cell_type": "code",
   "execution_count": 33,
   "metadata": {},
   "outputs": [
    {
     "name": "stdout",
     "output_type": "stream",
     "text": [
      "(array([2, 4, 6], dtype=int64),)\n"
     ]
    }
   ],
   "source": [
    "#47 indexes where the values are even\n",
    "import numpy as np\n",
    "\n",
    "x1 = np.array([4,8,17,2,23,114,127])\n",
    "x = np.where(x1%2 == 1)\n",
    "\n",
    "print(x)"
   ]
  },
  {
   "cell_type": "code",
   "execution_count": 39,
   "metadata": {},
   "outputs": [
    {
     "name": "stdout",
     "output_type": "stream",
     "text": [
      "1\n"
     ]
    }
   ],
   "source": [
    "#48 searchsorted()\n",
    "import numpy as np\n",
    "\n",
    "x1 = np.array([ 1003 , 1444,  1578])\n",
    "\n",
    "x = np.searchsorted(x1, 1444)\n",
    "\n",
    "print(x)\n"
   ]
  },
  {
   "cell_type": "code",
   "execution_count": 40,
   "metadata": {},
   "outputs": [
    {
     "name": "stdout",
     "output_type": "stream",
     "text": [
      "2\n"
     ]
    }
   ],
   "source": [
    "#49 searchsorted() valueshould be inserted, starting from the right:\n",
    "import numpy as np\n",
    "\n",
    "x1 = np.array([ 1003 , 1444,  1578])\n",
    "\n",
    "x = np.searchsorted(x1, 1444, side='right')\n",
    "\n",
    "print(x)"
   ]
  },
  {
   "cell_type": "code",
   "execution_count": 41,
   "metadata": {},
   "outputs": [
    {
     "name": "stdout",
     "output_type": "stream",
     "text": [
      "[1 3 4]\n"
     ]
    }
   ],
   "source": [
    " #50 indexes where would be values inserted in the original array to maintain the order\n",
    "    \n",
    "import numpy as np\n",
    "\n",
    "x1 = np.array([1001, 1010, 1013,1022])\n",
    "\n",
    "x = np.searchsorted(x1, [1002, 1014, 1026])\n",
    "\n",
    "print(x)\n"
   ]
  },
  {
   "cell_type": "code",
   "execution_count": 43,
   "metadata": {},
   "outputs": [
    {
     "name": "stdout",
     "output_type": "stream",
     "text": [
      "[61 22 73]\n",
      "[400  52  60]\n",
      "[887  48  19]\n",
      "[140 211 121]\n",
      "[1003 1444 1578]\n",
      "[  106 10007   108]\n"
     ]
    }
   ],
   "source": [
    "#51 Iterating Arrays going through elements one by one by for loop\n",
    "\n",
    "import numpy as np\n",
    "\n",
    "x1 = np.array([[61, 22, 73], [400, 52, 60], [887, 48, 19], [140, 211, 121], [1003, 1444, 1578], [106, 10007, 108]])\n",
    "for x in x1:\n",
    "    print(x)"
   ]
  },
  {
   "cell_type": "code",
   "execution_count": 44,
   "metadata": {},
   "outputs": [
    {
     "name": "stdout",
     "output_type": "stream",
     "text": [
      "61\n",
      "22\n",
      "73\n",
      "400\n",
      "52\n",
      "60\n",
      "887\n",
      "48\n",
      "19\n",
      "140\n",
      "211\n",
      "121\n",
      "1003\n",
      "1444\n",
      "1578\n",
      "106\n",
      "10007\n",
      "108\n"
     ]
    }
   ],
   "source": [
    "#52 Iterating scalar element of the 2-D array:\n",
    "\n",
    "\n",
    "\n",
    "import numpy as np\n",
    "\n",
    "x1 = np.array([[61, 22, 73], [400, 52, 60], [887, 48, 19], [140, 211, 121], [1003, 1444, 1578], [106, 10007, 108]])\n",
    "for x in x1:\n",
    "    \n",
    "   for c in x:\n",
    "    print(c)\n",
    "    "
   ]
  },
  {
   "cell_type": "code",
   "execution_count": 47,
   "metadata": {},
   "outputs": [
    {
     "name": "stdout",
     "output_type": "stream",
     "text": [
      "1011\n",
      "101\n",
      "102\n",
      "1011\n",
      "101\n",
      "102\n",
      "1011\n",
      "101\n",
      "102\n",
      "1011\n",
      "101\n",
      "102\n"
     ]
    }
   ],
   "source": [
    "\n",
    "#53 Iterate down to the scalars\n",
    "import numpy as np\n",
    "\n",
    "b1 = np.array([[[0, 49, 103], [1014, 50147,1006]], [[117, 28, 19], [1011, 101, 102]]])\n",
    "\n",
    "for x in b1:\n",
    "  for c in x:\n",
    "    for d in y:\n",
    "      print(d)\n"
   ]
  },
  {
   "cell_type": "code",
   "execution_count": 48,
   "metadata": {},
   "outputs": [
    {
     "name": "stdout",
     "output_type": "stream",
     "text": [
      "0\n",
      "49\n",
      "103\n",
      "1014\n",
      "50147\n",
      "1006\n",
      "117\n",
      "28\n",
      "19\n",
      "1011\n",
      "101\n",
      "102\n"
     ]
    }
   ],
   "source": [
    "#54  Iterate down to the scalars nditer()\n",
    "import numpy as np\n",
    "\n",
    "b1 = np.array([[[0, 49, 103], [1014, 50147,1006]], [[117, 28, 19], [1011, 101, 102]]])\n",
    "\n",
    "for x in np.nditer(b1):\n",
    "  print(x)"
   ]
  },
  {
   "cell_type": "code",
   "execution_count": 3,
   "metadata": {},
   "outputs": [
    {
     "name": "stdout",
     "output_type": "stream",
     "text": [
      "312\n"
     ]
    }
   ],
   "source": [
    "#55 Random Numbers in NumPy\n",
    "\n",
    "from numpy import random\n",
    "\n",
    "x1 = random.randint(1000)\n",
    "\n",
    "print(x1)"
   ]
  },
  {
   "cell_type": "code",
   "execution_count": 5,
   "metadata": {},
   "outputs": [
    {
     "name": "stdout",
     "output_type": "stream",
     "text": [
      "[0.12547726 0.06946166 0.55544156 0.96974813]\n"
     ]
    }
   ],
   "source": [
    "#56 Generate a random float from 0 to 1\n",
    "from numpy import random\n",
    "\n",
    "x1 = random.rand(4)\n",
    "\n",
    "print(x1)\n"
   ]
  },
  {
   "cell_type": "code",
   "execution_count": 9,
   "metadata": {},
   "outputs": [
    {
     "name": "stdout",
     "output_type": "stream",
     "text": [
      "[649 257 386 640 438 106 127 631]\n"
     ]
    }
   ],
   "source": [
    "#57 from numpy import randomThe randint() method takes a size parameter where you can specify the shape of an array.\n",
    "\n",
    " \n",
    "\n",
    "x4=random.randint(1000, size=(8))\n",
    "\n",
    "print(x4)"
   ]
  },
  {
   "cell_type": "code",
   "execution_count": 10,
   "metadata": {},
   "outputs": [
    {
     "name": "stdout",
     "output_type": "stream",
     "text": [
      "[[  0 901 120  18   7  12 357 244 895]\n",
      " [932 461  60 294 284 733 600 691 592]\n",
      " [ 38  25 265 784 975   3 813 375 865]\n",
      " [921 508  71 906 109 590 248 844 205]\n",
      " [345 802 234 283 358  57 765 822 923]\n",
      " [728  54 479 271 960 581 514 256 581]\n",
      " [873 477 291 122 911 711 951 587 225]\n",
      " [189 292 204 678 175 440 766 181 325]]\n"
     ]
    }
   ],
   "source": [
    "#58 Generate a 2-D array with 3 rows, each row containing 5 random integers from 0 to 100:\n",
    "x2=random.randint(1000, size=(8,9))\n",
    "\n",
    "print(x2)\n"
   ]
  },
  {
   "cell_type": "code",
   "execution_count": 14,
   "metadata": {},
   "outputs": [
    {
     "name": "stdout",
     "output_type": "stream",
     "text": [
      "[0.38746393 0.64271332 0.32462503 0.17613855 0.69069064 0.49065746\n",
      " 0.98847251 0.26406778 0.20500734 0.257908   0.03353843]\n"
     ]
    }
   ],
   "source": [
    "##59 rand() method also allows you to specify the shape of the array.\n",
    "\n",
    "from numpy import random\n",
    "\n",
    "x3 = random.rand(11)\n",
    "\n",
    "print(x3)"
   ]
  },
  {
   "cell_type": "code",
   "execution_count": 15,
   "metadata": {},
   "outputs": [
    {
     "name": "stdout",
     "output_type": "stream",
     "text": [
      "[[0.57335293 0.84010456 0.50134267 0.46815486 0.08021531 0.63402371\n",
      "  0.27388406 0.41716024]\n",
      " [0.01965539 0.90478922 0.88722553 0.17020274 0.37628065 0.52701187\n",
      "  0.1183612  0.27871443]\n",
      " [0.34159467 0.62862492 0.06368879 0.09943271 0.8740516  0.90310517\n",
      "  0.69784008 0.56030651]\n",
      " [0.24840549 0.03006785 0.72235275 0.75350013 0.23898589 0.06791926\n",
      "  0.31265402 0.78550386]\n",
      " [0.54393791 0.25120499 0.02885179 0.35803096 0.61693065 0.51486886\n",
      "  0.49405542 0.75470275]\n",
      " [0.13081434 0.88820833 0.883833   0.38450898 0.41524133 0.44243925\n",
      "  0.95283914 0.32912708]\n",
      " [0.81787513 0.41515419 0.7062608  0.67845571 0.94020472 0.02817776\n",
      "  0.37201733 0.55516212]\n",
      " [0.55830588 0.08573759 0.34914116 0.03727073 0.70242648 0.12651314\n",
      "  0.92502708 0.71313053]\n",
      " [0.96289054 0.78300896 0.94666889 0.53704569 0.89261305 0.45905592\n",
      "  0.92417156 0.09456177]]\n"
     ]
    }
   ],
   "source": [
    "#60 2-D array with 3 rows, each row containing 5 random \n",
    "\n",
    "from numpy import random\n",
    "\n",
    "x7 = random.rand(9 , 8)\n",
    "\n",
    "print(x7)\n"
   ]
  },
  {
   "cell_type": "code",
   "execution_count": 18,
   "metadata": {},
   "outputs": [
    {
     "name": "stdout",
     "output_type": "stream",
     "text": [
      "47\n"
     ]
    }
   ],
   "source": [
    "#61 The choice() method also allows you to return an array of values.\n",
    "\n",
    "from numpy import random\n",
    "\n",
    "x2 = random.choice([303, 51, 117, 99,808,4478,38,412,47,898])\n",
    "\n",
    "print(x2)"
   ]
  },
  {
   "cell_type": "code",
   "execution_count": 24,
   "metadata": {},
   "outputs": [
    {
     "name": "stdout",
     "output_type": "stream",
     "text": [
      "[[ 808   38  898   47   51  303   51]\n",
      " [  47   38  808   51  898  303  412]\n",
      " [ 898  303  412   51  303  808   38]\n",
      " [ 303   51  808  117 4478   38  898]\n",
      " [  38  898  898   51  808   47 4478]\n",
      " [  47   38  412   38  303   38   47]\n",
      " [ 898  117  898  117  303  412   47]\n",
      " [ 117   38 4478   38  412  898   51]]\n"
     ]
    }
   ],
   "source": [
    "#62 Add a size parameter to specify the shape of the array\n",
    "from numpy import random\n",
    "\n",
    "x2 = random.choice([303, 51, 117, 99,808,4478,38,412,47,898] ,size=(8, 7))\n",
    "\n",
    "print(x2)"
   ]
  },
  {
   "cell_type": "code",
   "execution_count": 33,
   "metadata": {},
   "outputs": [
    {
     "name": "stdout",
     "output_type": "stream",
     "text": [
      "[115 207 115 115 115 207 115 207 207 115 207 115 207 207 207 207 207 115\n",
      " 115 207 115 207   9 207 207 115 207 115   9 207 207 207 207 115 115 207\n",
      " 207 115 207 115 115 207 207 207 207 207 207   9 207 115 207 207 207 207\n",
      "   9   9 115 207 207 207 115 207 207   9 207   9 207 115 115 207 207 207\n",
      " 115 207 115   9 207 207 115 115 207 207   9 207 207 115 115 207 207 207\n",
      " 115 115 115 207   9 115 115 115 115 207]\n"
     ]
    }
   ],
   "source": [
    "#63 Random Data Distribution\n",
    "\n",
    "from numpy import random\n",
    "\n",
    "x2 = random.choice([9, 115, 207, 889], p=[0.1, 0.3, 0.6, 0.0], size=(100))\n",
    "\n",
    "print(x2)\n"
   ]
  },
  {
   "cell_type": "code",
   "execution_count": 34,
   "metadata": {},
   "outputs": [
    {
     "name": "stdout",
     "output_type": "stream",
     "text": [
      "[4 1 2 3 5]\n"
     ]
    }
   ],
   "source": [
    "#64 Shuffling Arrays\n",
    "\n",
    "from numpy import random\n",
    "import numpy as np\n",
    "\n",
    "arr = np.array([1, 2, 3, 4, 5])\n",
    "\n",
    "random.shuffle(arr)\n",
    "\n",
    "print(arr)"
   ]
  },
  {
   "cell_type": "code",
   "execution_count": 40,
   "metadata": {},
   "outputs": [
    {
     "name": "stdout",
     "output_type": "stream",
     "text": [
      "[-43, 115, -63, -29]\n"
     ]
    }
   ],
   "source": [
    "#65 NumPy ufuncs\n",
    "a = [21, 200, 33, 48]\n",
    "b = [64, 85, 96, 77]\n",
    "c = []\n",
    "\n",
    "for o, p in zip(a, b):\n",
    "  c.append(o - p)\n",
    "print(c)"
   ]
  },
  {
   "cell_type": "code",
   "execution_count": 41,
   "metadata": {},
   "outputs": [
    {
     "name": "stdout",
     "output_type": "stream",
     "text": [
      "[ 85 285 129 125]\n"
     ]
    }
   ],
   "source": [
    "#66 add unfunc\n",
    "a = [21, 200, 33, 48]\n",
    "b = [64, 85, 96, 77]\n",
    "c = np.add(a, b)\n",
    "print(c)\n"
   ]
  },
  {
   "cell_type": "code",
   "execution_count": 2,
   "metadata": {},
   "outputs": [
    {
     "name": "stdout",
     "output_type": "stream",
     "text": [
      "[1.5849625  2.         2.32192809]\n"
     ]
    }
   ],
   "source": [
    "#67 Log at Base 2\n",
    "\n",
    "import numpy as np\n",
    "\n",
    "x = np.arange(3, 6)\n",
    "\n",
    "print(np.log2(x))"
   ]
  },
  {
   "cell_type": "code",
   "execution_count": 6,
   "metadata": {},
   "outputs": [
    {
     "name": "stdout",
     "output_type": "stream",
     "text": [
      "[[ 1  2  3  4  5  6]\n",
      " [ 7  8  9 10 11 12]]\n",
      "<class 'numpy.ndarray'>\n",
      "[[ 1  2]\n",
      " [ 3  4]\n",
      " [ 5  6]\n",
      " [ 7  8]\n",
      " [ 9 10]\n",
      " [11 12]]\n"
     ]
    }
   ],
   "source": [
    " import numpy as np\n",
    "x = [[1,2,3,4,5,6],[7,8,9,10,11,12]]\n",
    "x=np.array([[1,2,3,4,5,6],[7,8,9,10,11,12]])\n",
    "    \n",
    "print(x)\n",
    "print(type(x))\n",
    "px= x.reshape(6,2)\n",
    "print(px)"
   ]
  },
  {
   "cell_type": "code",
   "execution_count": 5,
   "metadata": {},
   "outputs": [
    {
     "name": "stdout",
     "output_type": "stream",
     "text": [
      "[[[10.1 11.  12. ]\n",
      "  [13.  14.  15. ]\n",
      "  [16.  17.  18. ]]\n",
      "\n",
      " [[19.  20.  21. ]\n",
      "  [22.  23.  24. ]\n",
      "  [25.  26.  27. ]]\n",
      "\n",
      " [[28.  29.  30. ]\n",
      "  [31.  32.  33. ]\n",
      "  [34.  35.  36. ]]]\n",
      "<class 'numpy.ndarray'>\n",
      "float64\n"
     ]
    }
   ],
   "source": [
    "import numpy as np\n",
    "x = [[[10.1, 11., 12.],[13., 14., 15.],[16., 17., 18.]],[[19., 20., 21.],[22., 23., 24.],[25., 26., 27.]],[[28., 29., 30.],[31., 32., 33.],[34., 35., 36.]]]\n",
    "x=np.array([[[10.1, 11., 12.],[13., 14., 15.],[16., 17., 18.]],[[19., 20., 21.],[22., 23., 24.],[25., 26., 27.]],[[28., 29., 30.],[31., 32., 33.],\n",
    "                                                                                                           [34., 35., 36.]]])\n",
    "print(x)\n",
    "print(type(x))\n",
    "tc= x.reshape(3, 3, 3)\n",
    "tc = np.dtype(float)\n",
    "print(tc)\n",
    "\n"
   ]
  },
  {
   "cell_type": "code",
   "execution_count": 10,
   "metadata": {},
   "outputs": [
    {
     "name": "stdout",
     "output_type": "stream",
     "text": [
      "[[[10.1 11.  12. ]\n",
      "  [13.  14.  15. ]\n",
      "  [16.  17.  18. ]]\n",
      "\n",
      " [[19.  20.  21. ]\n",
      "  [22.  23.  24. ]\n",
      "  [25.  26.  27. ]]\n",
      "\n",
      " [[28.  29.  30. ]\n",
      "  [31.  32.  33. ]\n",
      "  [34.  35.  36. ]]]\n",
      "<class 'numpy.ndarray'>\n"
     ]
    },
    {
     "ename": "ValueError",
     "evalue": "cannot reshape array of size 27 into shape (6,2)",
     "output_type": "error",
     "traceback": [
      "\u001b[1;31m---------------------------------------------------------------------------\u001b[0m",
      "\u001b[1;31mValueError\u001b[0m                                Traceback (most recent call last)",
      "\u001b[1;32m<ipython-input-10-250ea29895e5>\u001b[0m in \u001b[0;36m<module>\u001b[1;34m\u001b[0m\n\u001b[0;32m      7\u001b[0m \u001b[0mprint\u001b[0m\u001b[1;33m(\u001b[0m\u001b[0mx\u001b[0m\u001b[1;33m)\u001b[0m\u001b[1;33m\u001b[0m\u001b[1;33m\u001b[0m\u001b[0m\n\u001b[0;32m      8\u001b[0m \u001b[0mprint\u001b[0m\u001b[1;33m(\u001b[0m\u001b[0mtype\u001b[0m\u001b[1;33m(\u001b[0m\u001b[0mx\u001b[0m\u001b[1;33m)\u001b[0m\u001b[1;33m)\u001b[0m\u001b[1;33m\u001b[0m\u001b[1;33m\u001b[0m\u001b[0m\n\u001b[1;32m----> 9\u001b[1;33m \u001b[0mx\u001b[0m\u001b[1;33m=\u001b[0m \u001b[0mx\u001b[0m\u001b[1;33m.\u001b[0m\u001b[0mreshape\u001b[0m\u001b[1;33m(\u001b[0m\u001b[1;36m6\u001b[0m\u001b[1;33m,\u001b[0m\u001b[1;36m2\u001b[0m\u001b[1;33m)\u001b[0m\u001b[1;33m\u001b[0m\u001b[1;33m\u001b[0m\u001b[0m\n\u001b[0m",
      "\u001b[1;31mValueError\u001b[0m: cannot reshape array of size 27 into shape (6,2)"
     ]
    }
   ],
   "source": [
    "def function1():\n",
    "    import numpy as np\n",
    "    x = [[1,2,3,4,5,6],[7,8,9,10,11,12]]\n",
    "    x=np.array([[1,2,3,4,5,6],[7,8,9,10,11,12]])\n",
    "\n",
    "    return x\n",
    "print(x)\n",
    "print(type(x))\n",
    "x= x.reshape(6,2)"
   ]
  },
  {
   "cell_type": "code",
   "execution_count": 11,
   "metadata": {},
   "outputs": [
    {
     "name": "stdout",
     "output_type": "stream",
     "text": [
      "[[   1    2    3    4    5    6    7    8    9   10]\n",
      " [  11   12   13   14   15   16   17   18   19   20]\n",
      " [  21   22   23   24   25   26   27   28   29   30]\n",
      " [  31   32   33   34   35   36   37   38   39   40]\n",
      " [  41   42   43   44   45   46   47   48   49   50]\n",
      " [  51   52   53   54   55   56   57   58   59   60]\n",
      " [  61   62   63   64   65   66   67   68   69   70]\n",
      " [  71   72   73   74   75   76   77   78   79   80]\n",
      " [  81   82   83   84   85   86   87   88   89   90]\n",
      " [  91   92   93   94   95   96   97   98   99  100]\n",
      " [ 101  102  103  104  105  106  107  108  109  110]\n",
      " [ 111  112  113  114  115  116  117  118  119  120]\n",
      " [ 121  122  123  124  125  126  127  128  129  130]\n",
      " [ 131  132  133  134  135  136  137  138  139  140]\n",
      " [ 141  142  143  144  145  146  147  148  149  150]\n",
      " [ 151  152  153  154  155  156  157  158  159  160]\n",
      " [ 161  162  163  164  165  166  167  168  169  170]\n",
      " [ 171  172  173  174  175  176  177  178  179  180]\n",
      " [ 181  182  183  184  185  186  187  188  189  190]\n",
      " [ 191  192  193  194  195  196  197  198  199  200]\n",
      " [ 201  202  203  204  205  206  207  208  209  210]\n",
      " [ 211  212  213  214  215  216  217  218  219  220]\n",
      " [ 221  222  223  224  225  226  227  228  229  230]\n",
      " [ 231  232  233  234  235  236  237  238  239  240]\n",
      " [ 241  242  243  244  245  246  247  248  249  250]\n",
      " [ 251  252  253  254  255  256  257  258  259  260]\n",
      " [ 261  262  263  264  265  266  267  268  269  270]\n",
      " [ 271  272  273  274  275  276  277  278  279  280]\n",
      " [ 281  282  283  284  285  286  287  288  289  290]\n",
      " [ 291  292  293  294  295  296  297  298  299  300]\n",
      " [ 301  302  303  304  305  306  307  308  309  310]\n",
      " [ 311  312  313  314  315  316  317  318  319  320]\n",
      " [ 321  322  323  324  325  326  327  328  329  330]\n",
      " [ 331  332  333  334  335  336  337  338  339  340]\n",
      " [ 341  342  343  344  345  346  347  348  349  350]\n",
      " [ 351  352  353  354  355  356  357  358  359  360]\n",
      " [ 361  362  363  364  365  366  367  368  369  370]\n",
      " [ 371  372  373  374  375  376  377  378  379  380]\n",
      " [ 381  382  383  384  385  386  387  388  389  390]\n",
      " [ 391  392  393  394  395  396  397  398  399  400]\n",
      " [ 401  402  403  404  405  406  407  408  409  410]\n",
      " [ 411  412  413  414  415  416  417  418  419  420]\n",
      " [ 421  422  423  424  425  426  427  428  429  430]\n",
      " [ 431  432  433  434  435  436  437  438  439  440]\n",
      " [ 441  442  443  444  445  446  447  448  449  450]\n",
      " [ 451  452  453  454  455  456  457  458  459  460]\n",
      " [ 461  462  463  464  465  466  467  468  469  470]\n",
      " [ 471  472  473  474  475  476  477  478  479  480]\n",
      " [ 481  482  483  484  485  486  487  488  489  490]\n",
      " [ 491  492  493  494  495  496  497  498  499  500]\n",
      " [ 501  502  503  504  505  506  507  508  509  510]\n",
      " [ 511  512  513  514  515  516  517  518  519  520]\n",
      " [ 521  522  523  524  525  526  527  528  529  530]\n",
      " [ 531  532  533  534  535  536  537  538  539  540]\n",
      " [ 541  542  543  544  545  546  547  548  549  550]\n",
      " [ 551  552  553  554  555  556  557  558  559  560]\n",
      " [ 561  562  563  564  565  566  567  568  569  570]\n",
      " [ 571  572  573  574  575  576  577  578  579  580]\n",
      " [ 581  582  583  584  585  586  587  588  589  590]\n",
      " [ 591  592  593  594  595  596  597  598  599  600]\n",
      " [ 601  602  603  604  605  606  607  608  609  610]\n",
      " [ 611  612  613  614  615  616  617  618  619  620]\n",
      " [ 621  622  623  624  625  626  627  628  629  630]\n",
      " [ 631  632  633  634  635  636  637  638  639  640]\n",
      " [ 641  642  643  644  645  646  647  648  649  650]\n",
      " [ 651  652  653  654  655  656  657  658  659  660]\n",
      " [ 661  662  663  664  665  666  667  668  669  670]\n",
      " [ 671  672  673  674  675  676  677  678  679  680]\n",
      " [ 681  682  683  684  685  686  687  688  689  690]\n",
      " [ 691  692  693  694  695  696  697  698  699  700]\n",
      " [ 701  702  703  704  705  706  707  708  709  710]\n",
      " [ 711  712  713  714  715  716  717  718  719  720]\n",
      " [ 721  722  723  724  725  726  727  728  729  730]\n",
      " [ 731  732  733  734  735  736  737  738  739  740]\n",
      " [ 741  742  743  744  745  746  747  748  749  750]\n",
      " [ 751  752  753  754  755  756  757  758  759  760]\n",
      " [ 761  762  763  764  765  766  767  768  769  770]\n",
      " [ 771  772  773  774  775  776  777  778  779  780]\n",
      " [ 781  782  783  784  785  786  787  788  789  790]\n",
      " [ 791  792  793  794  795  796  797  798  799  800]\n",
      " [ 801  802  803  804  805  806  807  808  809  810]\n",
      " [ 811  812  813  814  815  816  817  818  819  820]\n",
      " [ 821  822  823  824  825  826  827  828  829  830]\n",
      " [ 831  832  833  834  835  836  837  838  839  840]\n",
      " [ 841  842  843  844  845  846  847  848  849  850]\n",
      " [ 851  852  853  854  855  856  857  858  859  860]\n",
      " [ 861  862  863  864  865  866  867  868  869  870]\n",
      " [ 871  872  873  874  875  876  877  878  879  880]\n",
      " [ 881  882  883  884  885  886  887  888  889  890]\n",
      " [ 891  892  893  894  895  896  897  898  899  900]\n",
      " [ 901  902  903  904  905  906  907  908  909  910]\n",
      " [ 911  912  913  914  915  916  917  918  919  920]\n",
      " [ 921  922  923  924  925  926  927  928  929  930]\n",
      " [ 931  932  933  934  935  936  937  938  939  940]\n",
      " [ 941  942  943  944  945  946  947  948  949  950]\n",
      " [ 951  952  953  954  955  956  957  958  959  960]\n",
      " [ 961  962  963  964  965  966  967  968  969  970]\n",
      " [ 971  972  973  974  975  976  977  978  979  980]\n",
      " [ 981  982  983  984  985  986  987  988  989  990]\n",
      " [ 991  992  993  994  995  996  997  998  999 1000]]\n"
     ]
    }
   ],
   "source": [
    "import numpy as np\n",
    "\n",
    "\n",
    "a = np.arange(1, 100*10+1).reshape((100,10))\n",
    "print(a)"
   ]
  },
  {
   "cell_type": "code",
   "execution_count": 11,
   "metadata": {},
   "outputs": [
    {
     "name": "stdout",
     "output_type": "stream",
     "text": [
      "[ 35  70 105 140 175 210 245 280 315 350 385 420 455 490 525 560 595 630\n",
      " 665 700 735 770 805 840 875 910 945 980]\n"
     ]
    }
   ],
   "source": [
    "    import numpy as np\n",
    "    #extract those numbers from given array. those are must exist in 5,7 Table\n",
    "    #example [35,70,105,..]\n",
    "    a = np.arange(1, 100*10+1).reshape((100,10))\n",
    "    x = a[(a%5==0)&(a%7==0)] #wrtie your code here\n",
    "print(x)\n",
    "    "
   ]
  },
  {
   "cell_type": "code",
   "execution_count": 39,
   "metadata": {},
   "outputs": [
    {
     "name": "stdout",
     "output_type": "stream",
     "text": [
      "[[1 0 2]\n",
      " [4 3 5]\n",
      " [7 6 8]]\n"
     ]
    }
   ],
   "source": [
    "import numpy as np\n",
    "\n",
    "arr = np.arange(9).reshape(3,3)\n",
    "\n",
    "arr[:,[0, 1]] = arr[:,[1, 0]]\n",
    "\n",
    "print(arr)"
   ]
  },
  {
   "cell_type": "code",
   "execution_count": 5,
   "metadata": {},
   "outputs": [
    {
     "name": "stdout",
     "output_type": "stream",
     "text": [
      "[[0. 0. 0. 0. 0.]\n",
      " [0. 0. 0. 0. 0.]\n",
      " [0. 0. 0. 0. 0.]\n",
      " [0. 0. 0. 0. 0.]]\n"
     ]
    }
   ],
   "source": [
    "#null vect\n",
    "import numpy as np\n",
    "arr = np.zeros(20).reshape(4,5)\n",
    "print(arr)"
   ]
  },
  {
   "cell_type": "code",
   "execution_count": 6,
   "metadata": {},
   "outputs": [
    {
     "name": "stdout",
     "output_type": "stream",
     "text": [
      "[ 0.  0.  0.  0.  0. 10.  0.  0. 20.  0.]\n"
     ]
    }
   ],
   "source": [
    "#null vect value chnge in 2 postionss\n",
    "import numpy as np\n",
    "arr = np.zeros(10)\n",
    "arr[5]=10\n",
    "arr[8]=20\n",
    "print(arr)"
   ]
  },
  {
   "cell_type": "code",
   "execution_count": 6,
   "metadata": {},
   "outputs": [
    {
     "name": "stdout",
     "output_type": "stream",
     "text": [
      "[0. 0. 0. 0.]\n",
      "[0 0 0 0]\n",
      "int64\n"
     ]
    }
   ],
   "source": [
    "import numpy as np\n",
    "x = np.zeros(4)\n",
    "print(x)\n",
    "x1 = x.astype('int64')\n",
    "print(x1)\n",
    "print(x1.dtype)\n"
   ]
  },
  {
   "cell_type": "code",
   "execution_count": 8,
   "metadata": {},
   "outputs": [
    {
     "name": "stdout",
     "output_type": "stream",
     "text": [
      "[[6 6 6 6 6]\n",
      " [6 6 6 6 6]]\n",
      "uint32\n"
     ]
    }
   ],
   "source": [
    "import numpy as np\n",
    "#using no.full\n",
    "x = np.full((2, 5), 6, dtype=np.uint32)\n",
    "print(x)\n",
    "print(x.dtype)"
   ]
  },
  {
   "cell_type": "code",
   "execution_count": 16,
   "metadata": {},
   "outputs": [
    {
     "name": "stdout",
     "output_type": "stream",
     "text": [
      "[  2   4   6   8  10  12  14  16  18  20  22  24  26  28  30  32  34  36\n",
      "  38  40  42  44  46  48  50  52  54  56  58  60  62  64  66  68  70  72\n",
      "  74  76  78  80  82  84  86  88  90  92  94  96  98 100]\n"
     ]
    }
   ],
   "source": [
    "import numpy as np\n",
    "a=np.arange (1, 101)\n",
    "a = a[(a%2==0)]\n",
    "print(a)"
   ]
  },
  {
   "cell_type": "code",
   "execution_count": 26,
   "metadata": {},
   "outputs": [
    {
     "name": "stdout",
     "output_type": "stream",
     "text": [
      "[[2 2 2]\n",
      " [2 2 2]\n",
      " [2 2 2]]\n"
     ]
    }
   ],
   "source": [
    "import numpy as np\n",
    "\n",
    "arr = np.array([[3,3,3],[4,4,4],[5,5,5]])\n",
    "brr = np.array([1,2,3])\n",
    "subt = arr-np.vstack(brr)\n",
    "\n",
    "print(subt)"
   ]
  },
  {
   "cell_type": "code",
   "execution_count": 22,
   "metadata": {},
   "outputs": [
    {
     "name": "stdout",
     "output_type": "stream",
     "text": [
      "[ 0 -1  2 -1  4 -1  6 -1  8 -1]\n"
     ]
    }
   ],
   "source": [
    "import numpy as np\n",
    "arr = np.array([0, 1, 2, 3, 4, 5, 6, 7, 8, 9])\n",
    "arr[1::2] = -1\n",
    "ans = arr\n",
    "print (ans)\n"
   ]
  },
  {
   "cell_type": "code",
   "execution_count": 98,
   "metadata": {},
   "outputs": [
    {
     "data": {
      "text/plain": [
       "array([1, 1, 1, 2, 2, 2, 3, 3, 3, 1, 2, 3, 1, 2, 3, 1, 2, 3])"
      ]
     },
     "execution_count": 98,
     "metadata": {},
     "output_type": "execute_result"
    }
   ],
   "source": [
    "import numpy as np\n",
    "arr = np.array([1,2,3])\n",
    "(np.repeat([1,2,3],3),arr,arr,arr)\n",
    "np.hstack((np.repeat([1,2,3],3),arr,arr,arr)\n",
    ")"
   ]
  },
  {
   "cell_type": "code",
   "execution_count": 107,
   "metadata": {},
   "outputs": [
    {
     "name": "stdout",
     "output_type": "stream",
     "text": [
      "[6 9]\n"
     ]
    }
   ],
   "source": [
    " arr = np.array([2, 6, 1, 9, 10, 3, 27])\n",
    "ans = arr[(arr>5)&(arr<10)]\n",
    "print(ans)"
   ]
  },
  {
   "cell_type": "code",
   "execution_count": 120,
   "metadata": {},
   "outputs": [],
   "source": [
    "import numpy as np\n",
    "\n",
    "arr = np.arange(10, 34, 1).reshape(8,3)\n",
    "\n",
    "ans = np.split(arr,4)\n",
    "\n"
   ]
  },
  {
   "cell_type": "code",
   "execution_count": 126,
   "metadata": {},
   "outputs": [
    {
     "name": "stdout",
     "output_type": "stream",
     "text": [
      "[[-4  1  7]\n",
      " [ 8  2 -2]\n",
      " [ 6  3  9]]\n"
     ]
    }
   ],
   "source": [
    " arr= np.array([[ 8,  2, -2],[-4,  1,  7],[ 6,  3,  9]])\n",
    "ans= arr[np.argsort(arr[:, 1])]\n",
    "print(ans)\n"
   ]
  },
  {
   "cell_type": "code",
   "execution_count": 135,
   "metadata": {},
   "outputs": [
    {
     "name": "stdout",
     "output_type": "stream",
     "text": [
      "[[1 2]\n",
      " [2 3]\n",
      " [3 4]]\n"
     ]
    }
   ],
   "source": [
    "   \n",
    "    \n",
    "    x = np.array([[1], [2], [3]])\n",
    "    y = np.array([[2], [3], [4]])\n",
    "    ans = np.hstack([x,y])\n",
    "    print(ans)"
   ]
  },
  {
   "cell_type": "code",
   "execution_count": 145,
   "metadata": {},
   "outputs": [
    {
     "name": "stdout",
     "output_type": "stream",
     "text": [
      "[ 5 20 50]\n"
     ]
    }
   ],
   "source": [
    "piaic = np.arange(100)\n",
    "students = np.array([5,20,50,200,301,7001])\n",
    "\n",
    "\n",
    "x=(np.intersect1d(piaic, students)) \n",
    "\n",
    "print(x)"
   ]
  },
  {
   "cell_type": "code",
   "execution_count": 155,
   "metadata": {},
   "outputs": [
    {
     "name": "stdout",
     "output_type": "stream",
     "text": [
      "[[ 1  6 11 16 21]\n",
      " [ 2  7 12 17 22]\n",
      " [ 3  8 13 18 23]\n",
      " [ 4  9 14 19 24]\n",
      " [ 5 10 15 20 25]]\n"
     ]
    }
   ],
   "source": [
    "X =   np.arange(1,26).reshape(5,5)\n",
    "W = X.copy()\n",
    "\n",
    "\n",
    "W = W.transpose()\n",
    "b = 5\n",
    "\n",
    "print(W)"
   ]
  },
  {
   "cell_type": "code",
   "execution_count": null,
   "metadata": {},
   "outputs": [],
   "source": []
  },
  {
   "cell_type": "code",
   "execution_count": null,
   "metadata": {},
   "outputs": [],
   "source": []
  },
  {
   "cell_type": "code",
   "execution_count": null,
   "metadata": {},
   "outputs": [],
   "source": []
  }
 ],
 "metadata": {
  "kernelspec": {
   "display_name": "Python 3",
   "language": "python",
   "name": "python3"
  },
  "language_info": {
   "codemirror_mode": {
    "name": "ipython",
    "version": 3
   },
   "file_extension": ".py",
   "mimetype": "text/x-python",
   "name": "python",
   "nbconvert_exporter": "python",
   "pygments_lexer": "ipython3",
   "version": "3.8.5"
  }
 },
 "nbformat": 4,
 "nbformat_minor": 4
}
